{
  "nbformat": 4,
  "nbformat_minor": 0,
  "metadata": {
    "colab": {
      "name": "automated_essay_scoring.ipynb",
      "provenance": [],
      "collapsed_sections": [],
      "toc_visible": true,
      "authorship_tag": "ABX9TyPA76oF78avMPIf7shQNzJ4",
      "include_colab_link": true
    },
    "kernelspec": {
      "name": "python3",
      "display_name": "Python 3"
    },
    "language_info": {
      "name": "python"
    }
  },
  "cells": [
    {
      "cell_type": "markdown",
      "metadata": {
        "id": "view-in-github",
        "colab_type": "text"
      },
      "source": [
        "<a href=\"https://colab.research.google.com/github/Gail529/AES/blob/main/automated_essay_scoring.ipynb\" target=\"_parent\"><img src=\"https://colab.research.google.com/assets/colab-badge.svg\" alt=\"Open In Colab\"/></a>"
      ]
    },
    {
      "cell_type": "markdown",
      "metadata": {
        "id": "O8holrnjqoeb"
      },
      "source": [
        "# Importing  Necessary Modules"
      ]
    },
    {
      "cell_type": "code",
      "metadata": {
        "id": "BTILa78Y3xVM",
        "colab": {
          "base_uri": "https://localhost:8080/"
        },
        "outputId": "b8986646-88bc-47a9-ca1d-87632a81989b"
      },
      "source": [
        "import pandas as pd\n",
        "import numpy as np\n",
        "import nltk\n",
        "from nltk.corpus import stopwords\n",
        "from nltk.tokenize import sent_tokenize\n",
        " \n",
        "import re\n",
        "import string\n",
        "import warnings\n",
        "warnings.filterwarnings(\"ignore\")  \n",
        "from gensim.models import Word2Vec\n",
        " \n",
        " \n",
        "#essay preprocessing \n",
        "import nltk\n",
        "nltk.download('punkt')\n",
        "nltk.download('stopwords')\n",
        "nltk.download('wordnet')\n",
        "import string\n",
        "import re\n",
        "from nltk.tokenize import word_tokenize,sent_tokenize\n",
        "from nltk.stem import WordNetLemmatizer\n",
        "from nltk.corpus import stopwords\n",
        "from nltk.stem import PorterStemmer\n",
        "\n",
        "#training the neural network \n",
        "from tensorflow.keras.layers import Embedding\n",
        "from keras.models import Sequential, load_model, model_from_config\n",
        "from tensorflow.keras.preprocessing.sequence import pad_sequences\n",
        "from tensorflow.keras.models import Sequential\n",
        "from tensorflow.keras.layers import LSTM\n",
        "from tensorflow.keras.layers import Dropout\n",
        "from tensorflow.keras.layers import Dense\n",
        "from tensorflow.keras.layers import Lambda\n",
        "from tensorflow.keras.layers import Flatten\n",
        "\n",
        "from sklearn.linear_model import LinearRegression\n",
        "from sklearn.metrics import cohen_kappa_score\n",
        "import keras.backend as K"
      ],
      "execution_count": 1,
      "outputs": [
        {
          "output_type": "stream",
          "text": [
            "[nltk_data] Downloading package punkt to /root/nltk_data...\n",
            "[nltk_data]   Unzipping tokenizers/punkt.zip.\n",
            "[nltk_data] Downloading package stopwords to /root/nltk_data...\n",
            "[nltk_data]   Unzipping corpora/stopwords.zip.\n",
            "[nltk_data] Downloading package wordnet to /root/nltk_data...\n",
            "[nltk_data]   Unzipping corpora/wordnet.zip.\n"
          ],
          "name": "stdout"
        }
      ]
    },
    {
      "cell_type": "markdown",
      "metadata": {
        "id": "WtpWZ4Vyqmhn"
      },
      "source": [
        "Preprocessing"
      ]
    },
    {
      "cell_type": "code",
      "metadata": {
        "colab": {
          "base_uri": "https://localhost:8080/",
          "height": 107
        },
        "id": "1_-bDXNbIUpe",
        "outputId": "74cf5d5c-ff75-41bc-8c64-0489cc046b6e"
      },
      "source": [
        "#reading data set\n",
        "essay_data= pd.read_excel('/content/training_set_rel3.xlsx',usecols=['essay_id','essay','domain1_score'])\n",
        "essay_data.head(2)"
      ],
      "execution_count": 3,
      "outputs": [
        {
          "output_type": "execute_result",
          "data": {
            "text/html": [
              "<div>\n",
              "<style scoped>\n",
              "    .dataframe tbody tr th:only-of-type {\n",
              "        vertical-align: middle;\n",
              "    }\n",
              "\n",
              "    .dataframe tbody tr th {\n",
              "        vertical-align: top;\n",
              "    }\n",
              "\n",
              "    .dataframe thead th {\n",
              "        text-align: right;\n",
              "    }\n",
              "</style>\n",
              "<table border=\"1\" class=\"dataframe\">\n",
              "  <thead>\n",
              "    <tr style=\"text-align: right;\">\n",
              "      <th></th>\n",
              "      <th>essay_id</th>\n",
              "      <th>essay</th>\n",
              "      <th>domain1_score</th>\n",
              "    </tr>\n",
              "  </thead>\n",
              "  <tbody>\n",
              "    <tr>\n",
              "      <th>0</th>\n",
              "      <td>1</td>\n",
              "      <td>Dear local newspaper, I think effects computer...</td>\n",
              "      <td>8.0</td>\n",
              "    </tr>\n",
              "    <tr>\n",
              "      <th>1</th>\n",
              "      <td>2</td>\n",
              "      <td>Dear @CAPS1 @CAPS2, I believe that using compu...</td>\n",
              "      <td>9.0</td>\n",
              "    </tr>\n",
              "  </tbody>\n",
              "</table>\n",
              "</div>"
            ],
            "text/plain": [
              "   essay_id                                              essay  domain1_score\n",
              "0         1  Dear local newspaper, I think effects computer...            8.0\n",
              "1         2  Dear @CAPS1 @CAPS2, I believe that using compu...            9.0"
            ]
          },
          "metadata": {
            "tags": []
          },
          "execution_count": 3
        }
      ]
    },
    {
      "cell_type": "code",
      "metadata": {
        "colab": {
          "base_uri": "https://localhost:8080/"
        },
        "id": "Xpkl7yetIdWD",
        "outputId": "64ac3019-6146-4062-d939-880deffa3c8b"
      },
      "source": [
        "x=essay_data['essay']\n",
        "y=essay_data['domain1_score']\n",
        "len(x) "
      ],
      "execution_count": 4,
      "outputs": [
        {
          "output_type": "execute_result",
          "data": {
            "text/plain": [
              "12978"
            ]
          },
          "metadata": {
            "tags": []
          },
          "execution_count": 4
        }
      ]
    },
    {
      "cell_type": "code",
      "metadata": {
        "id": "mB5IxYDird9g",
        "colab": {
          "base_uri": "https://localhost:8080/"
        },
        "outputId": "cccbb384-4506-4277-a1ec-ca3a06d33bb1"
      },
      "source": [
        "#missing values\n",
        "essay_data['domain1_score'] = essay_data['domain1_score'].fillna(essay_data['domain1_score'].mean())\n",
        "print(essay_data.isnull().sum().sum())\n",
        "print(np.any(np.isnan(y).sum()))"
      ],
      "execution_count": 5,
      "outputs": [
        {
          "output_type": "stream",
          "text": [
            "0\n",
            "False\n"
          ],
          "name": "stdout"
        }
      ]
    },
    {
      "cell_type": "code",
      "metadata": {
        "id": "gM5Xp0rbEaC_"
      },
      "source": [
        "#preprocessing the essays\n",
        "def sent_tokenize(text):\n",
        "    stripped_essay = text.strip()\n",
        "    #tokenization \n",
        "    tokenizer = nltk.data.load('tokenizers/punkt/english.pickle')\n",
        "    raw_sentences = tokenizer.tokenize(stripped_essay)\n",
        "    \n",
        "    tokenized_sentences = []\n",
        "    for raw_sentence in raw_sentences:\n",
        "        #removing punctuations and non alphanumeric characters\n",
        "        clean_sentence = re.sub(\"[^a-zA-Z0-9]\",\" \", raw_sentence)\n",
        "        #lowercasing\n",
        "        words = clean_sentence.lower().split()\n",
        "        #removing stopwords\n",
        "        stops = set(stopwords.words(\"english\"))\n",
        "        words = [w for w in words if not w in stops]\n",
        "        tokenized_sentences.append(words)\n",
        "\n",
        "    return tokenized_sentences\n"
      ],
      "execution_count": 6,
      "outputs": []
    },
    {
      "cell_type": "code",
      "metadata": {
        "id": "l7UIo0SnAWma"
      },
      "source": [
        "#sentences for the word2Vec model\n",
        "sentences=[]\n",
        "for essay in x:\n",
        "    sentences += sent_tokenize(essay)"
      ],
      "execution_count": 7,
      "outputs": []
    },
    {
      "cell_type": "code",
      "metadata": {
        "id": "-rKwV3LzB1Mt",
        "colab": {
          "base_uri": "https://localhost:8080/"
        },
        "outputId": "cafacf77-51a8-4724-e7d2-712e65c85a4f"
      },
      "source": [
        "sentences[100]"
      ],
      "execution_count": 8,
      "outputs": [
        {
          "output_type": "execute_result",
          "data": {
            "text/plain": [
              "['result', 'computers', 'would', 'improve', 'way', 'learn']"
            ]
          },
          "metadata": {
            "tags": []
          },
          "execution_count": 8
        }
      ]
    },
    {
      "cell_type": "markdown",
      "metadata": {
        "id": "Pt1qTaNQ_Dva"
      },
      "source": [
        "# Word Embedding"
      ]
    },
    {
      "cell_type": "code",
      "metadata": {
        "colab": {
          "base_uri": "https://localhost:8080/"
        },
        "id": "rvMn_Q2JLeTd",
        "outputId": "bf273c0d-9958-4364-bb97-da8b2277520d"
      },
      "source": [
        "text_dim = 300\n",
        "print(\"Training Word2Vec model...\")\n",
        "wordvec_model = Word2Vec(sentences, size=text_dim, window=5, min_count=3, workers=4, sg=1)\n",
        "print(\"Word2Vec model created.\")\n",
        "print(\"%d unique words represented by %d dimensional vectors\" % (len(wordvec_model.wv.vocab), text_dim))\n",
        "wordvec_model.save('wordvec_model')\n",
        "print(\"Word2Vec model saved.\")"
      ],
      "execution_count": 9,
      "outputs": [
        {
          "output_type": "stream",
          "text": [
            "Training Word2Vec model...\n",
            "Word2Vec model created.\n",
            "13134 unique words represented by 300 dimensional vectors\n",
            "Word2Vec model saved.\n"
          ],
          "name": "stdout"
        }
      ]
    },
    {
      "cell_type": "code",
      "metadata": {
        "id": "es33b9LNUUla"
      },
      "source": [
        "#essays\n",
        "cleaned_essays=[]\n",
        "for i in range(0,len(x)):\n",
        "    essay=x[i]\n",
        "    cleaned_essays.append(sent_tokenize(essay))\n",
        "    "
      ],
      "execution_count": 10,
      "outputs": []
    },
    {
      "cell_type": "code",
      "metadata": {
        "id": "7gaRkCN1TBy-"
      },
      "source": [
        "def clean_essays(essay):\n",
        "    clean_essay= re.sub(\"[^a-zA-Z]\", \" \",essay)\n",
        "    words = essay.lower().split()\n",
        "    stops = set(stopwords.words(\"english\"))\n",
        "    words = [w for w in words if not w in stops]\n",
        "    return (words)\n",
        "\n",
        "cleaned_essays = []\n",
        "for essay in x:\n",
        "        cleaned_essays.append(clean_essays(essay))"
      ],
      "execution_count": 11,
      "outputs": []
    },
    {
      "cell_type": "code",
      "metadata": {
        "id": "nBIOCDifPoMk",
        "colab": {
          "base_uri": "https://localhost:8080/"
        },
        "outputId": "d0b5595b-4c99-400b-feba-21923e488b07"
      },
      "source": [
        "#creating the embedding matrix\n",
        "def create_average_vec(essay):\n",
        "    average = np.zeros((text_dim,), dtype='float32')\n",
        "    num_words = 0.\n",
        "    for word in essay:\n",
        "        if word in wordvec_model.wv.vocab:\n",
        "            average = np.add(average, wordvec_model.wv[word])\n",
        "            num_words += 1.\n",
        "    if num_words != 0.:\n",
        "        average = np.divide(average, num_words)\n",
        "    return average\n",
        "\n",
        "cleaned_vec = np.zeros((len(x),text_dim), dtype=\"float32\")  \n",
        "for i in range(len(cleaned_essays)):\n",
        "    cleaned_vec[i] = create_average_vec(cleaned_essays[i])\n",
        "\n",
        "print(\"Word vectors for all essays in the training data set are of shape:\", cleaned_vec.shape)\n"
      ],
      "execution_count": 12,
      "outputs": [
        {
          "output_type": "stream",
          "text": [
            "Word vectors for all essays in the training data set are of shape: (12978, 300)\n"
          ],
          "name": "stdout"
        }
      ]
    },
    {
      "cell_type": "code",
      "metadata": {
        "colab": {
          "base_uri": "https://localhost:8080/"
        },
        "id": "23_vYXi1ibA9",
        "outputId": "903a2456-390e-47fc-bdaf-e3494cc0ff9f"
      },
      "source": [
        "#splitting the training and validation set\n",
        "data_split=0.8\n",
        "train_samples=int(len(cleaned_vec)*data_split)\n",
        "\n",
        "x_train = np.array(cleaned_vec[:train_samples])\n",
        "x_test = np.array(cleaned_vec[train_samples:])\n",
        "y_train = np.array(y[:train_samples])\n",
        "y_test = np.array(y[train_samples:])\n",
        "\n",
        "print(\"x_train\" ,len(x_train))\n",
        "print(\"x_test\" ,len(x_test))\n",
        "print(\"y_train\" ,len(y_train))\n",
        "print(\"y_test\" ,len(y_test))"
      ],
      "execution_count": 28,
      "outputs": [
        {
          "output_type": "stream",
          "text": [
            "x_train 10382\n",
            "x_test 2596\n",
            "y_train 10382\n",
            "y_test 2596\n"
          ],
          "name": "stdout"
        }
      ]
    },
    {
      "cell_type": "code",
      "metadata": {
        "id": "1_16xPRvcbD5"
      },
      "source": [
        "#playing around with the hyperparameters\n",
        "def get_model():\n",
        "    model = Sequential()\n",
        "    model.add(LSTM(300, dropout=0.4, recurrent_dropout=0.4, input_shape=[1, 300], return_sequences=True))\n",
        "    model.add(LSTM(64, recurrent_dropout=0.4))\n",
        "    model.add(Dropout(0.5))\n",
        "    model.add(Dense(1, activation='tanh'))\n",
        "    model.compile(loss='mean_squared_error', optimizer='adam', metrics=['accuracy'])\n",
        "    model.summary()\n",
        "    return model\n",
        "\n",
        "def get_model2():\n",
        "    model = Sequential()\n",
        "    model.add(LSTM(300, dropout=0.4, recurrent_dropout=0.4, input_shape=[1, 300], return_sequences=True))\n",
        "    model.add(LSTM(64, recurrent_dropout=0.4))\n",
        "    model.add(Dropout(0.5))\n",
        "    model.add(Dense(1, activation='relu'))\n",
        "    model.compile(loss='mean_squared_error', optimizer='rmsprop', metrics=['mae'])\n",
        "    model.summary()\n",
        "    return model\n",
        "\n",
        "def get_model3():\n",
        "    model = Sequential()\n",
        "    model.add(LSTM(300, dropout=0.4, recurrent_dropout=0.4, input_shape=[1, 300], return_sequences=True))\n",
        "    model.add(LSTM(64, recurrent_dropout=0.4))\n",
        "    model.add(Dropout(0.5))\n",
        "    model.add(Dense(1, activation='tanh'))\n",
        "    model.compile(loss='mean_squared_error', optimizer='adam', metrics=['mae'])\n",
        "    model.summary()\n",
        "    return model\n",
        "\n",
        "def get_model4():\n",
        "    model = Sequential()\n",
        "    model.add(LSTM(300, dropout=0.4, recurrent_dropout=0.4, input_shape=[1, 300], return_sequences=True))\n",
        "    model.add(LSTM(64, recurrent_dropout=0.4))\n",
        "    model.add(Dropout(0.5))\n",
        "    model.add(Dense(1, activation='tanh'))\n",
        "    model.compile(loss='mean_squared_error', optimizer='rmsprop', metrics=['mae'])\n",
        "    model.summary()\n",
        "    return model\n",
        "\n"
      ],
      "execution_count": 14,
      "outputs": []
    },
    {
      "cell_type": "code",
      "metadata": {
        "id": "JHIzH4lncdl3",
        "colab": {
          "base_uri": "https://localhost:8080/"
        },
        "outputId": "0b57cb23-c0b1-4f93-aac9-b8c24d3b17d0"
      },
      "source": [
        "x_train = np.reshape(x_train, (x_train.shape[0], 1, x_train.shape[1]))\n",
        "x_test = np.reshape(x_test, (x_test.shape[0], 1, x_test.shape[1]))\n",
        "    \n",
        "\n",
        "lstm_model = get_model3()\n",
        "history=lstm_model.fit(x_train, y_train, batch_size=100, epochs=20,validation_data=(x_test, y_test))\n",
        "\n",
        "y_pred = lstm_model.predict(x_test)\n",
        "lstm_model.save('final_lstm.h5')\n",
        "\n",
        "# Round y_pred to the nearest integer.\n",
        "y_pred = np.around(y_pred)\n",
        "\n",
        "# Evaluate the model on the evaluation metric. \"Quadratic mean averaged Kappa\"\n",
        "result = cohen_kappa_score(y_test,y_pred,weights='quadratic')\n",
        "print(\"Kappa Score: {}\".format(result))\n",
        "\n"
      ],
      "execution_count": 29,
      "outputs": [
        {
          "output_type": "stream",
          "text": [
            "Model: \"sequential_3\"\n",
            "_________________________________________________________________\n",
            "Layer (type)                 Output Shape              Param #   \n",
            "=================================================================\n",
            "lstm_6 (LSTM)                (None, 1, 300)            721200    \n",
            "_________________________________________________________________\n",
            "lstm_7 (LSTM)                (None, 64)                93440     \n",
            "_________________________________________________________________\n",
            "dropout_3 (Dropout)          (None, 64)                0         \n",
            "_________________________________________________________________\n",
            "dense_3 (Dense)              (None, 1)                 65        \n",
            "=================================================================\n",
            "Total params: 814,705\n",
            "Trainable params: 814,705\n",
            "Non-trainable params: 0\n",
            "_________________________________________________________________\n",
            "Epoch 1/20\n",
            "104/104 [==============================] - 9s 38ms/step - loss: 14.3417 - mae: 2.7420 - val_loss: 519.4193 - val_mae: 19.3189\n",
            "Epoch 2/20\n",
            "104/104 [==============================] - 3s 33ms/step - loss: 12.2895 - mae: 2.4458 - val_loss: 519.4188 - val_mae: 19.3189\n",
            "Epoch 3/20\n",
            "104/104 [==============================] - 3s 33ms/step - loss: 12.8389 - mae: 2.5161 - val_loss: 519.4184 - val_mae: 19.3189\n",
            "Epoch 4/20\n",
            "104/104 [==============================] - 3s 33ms/step - loss: 12.7643 - mae: 2.5045 - val_loss: 519.4180 - val_mae: 19.3189\n",
            "Epoch 5/20\n",
            "104/104 [==============================] - 4s 34ms/step - loss: 12.7900 - mae: 2.4938 - val_loss: 519.4178 - val_mae: 19.3189\n",
            "Epoch 6/20\n",
            "104/104 [==============================] - 3s 33ms/step - loss: 12.4978 - mae: 2.4684 - val_loss: 519.4177 - val_mae: 19.3189\n",
            "Epoch 7/20\n",
            "104/104 [==============================] - 3s 33ms/step - loss: 12.6167 - mae: 2.4902 - val_loss: 519.4175 - val_mae: 19.3189\n",
            "Epoch 8/20\n",
            "104/104 [==============================] - 3s 33ms/step - loss: 12.9679 - mae: 2.5170 - val_loss: 519.4174 - val_mae: 19.3189\n",
            "Epoch 9/20\n",
            "104/104 [==============================] - 3s 32ms/step - loss: 12.9260 - mae: 2.5119 - val_loss: 519.4174 - val_mae: 19.3189\n",
            "Epoch 10/20\n",
            "104/104 [==============================] - 3s 33ms/step - loss: 13.1621 - mae: 2.5505 - val_loss: 519.4173 - val_mae: 19.3189\n",
            "Epoch 11/20\n",
            "104/104 [==============================] - 3s 32ms/step - loss: 12.6614 - mae: 2.4970 - val_loss: 519.4172 - val_mae: 19.3189\n",
            "Epoch 12/20\n",
            "104/104 [==============================] - 3s 33ms/step - loss: 12.9594 - mae: 2.5325 - val_loss: 519.4171 - val_mae: 19.3189\n",
            "Epoch 13/20\n",
            "104/104 [==============================] - 3s 33ms/step - loss: 12.3517 - mae: 2.4661 - val_loss: 519.4171 - val_mae: 19.3189\n",
            "Epoch 14/20\n",
            "104/104 [==============================] - 3s 33ms/step - loss: 12.6481 - mae: 2.4914 - val_loss: 519.4171 - val_mae: 19.3189\n",
            "Epoch 15/20\n",
            "104/104 [==============================] - 3s 33ms/step - loss: 12.5447 - mae: 2.4820 - val_loss: 519.4171 - val_mae: 19.3189\n",
            "Epoch 16/20\n",
            "104/104 [==============================] - 3s 32ms/step - loss: 12.5296 - mae: 2.4713 - val_loss: 519.4171 - val_mae: 19.3189\n",
            "Epoch 17/20\n",
            "104/104 [==============================] - 3s 33ms/step - loss: 12.7982 - mae: 2.5144 - val_loss: 519.4171 - val_mae: 19.3189\n",
            "Epoch 18/20\n",
            "104/104 [==============================] - 3s 33ms/step - loss: 12.6880 - mae: 2.4826 - val_loss: 519.4171 - val_mae: 19.3189\n",
            "Epoch 19/20\n",
            "104/104 [==============================] - 3s 33ms/step - loss: 12.9744 - mae: 2.5225 - val_loss: 519.4171 - val_mae: 19.3189\n",
            "Epoch 20/20\n",
            "104/104 [==============================] - 3s 33ms/step - loss: 12.8803 - mae: 2.5181 - val_loss: 519.4170 - val_mae: 19.3189\n",
            "Kappa Score: 2.5698828580722477e-05\n"
          ],
          "name": "stdout"
        }
      ]
    },
    {
      "cell_type": "code",
      "metadata": {
        "colab": {
          "base_uri": "https://localhost:8080/",
          "height": 294
        },
        "id": "2ZafpXpQ40HN",
        "outputId": "cdb1f149-a124-4d20-be3d-d222bf1a4952"
      },
      "source": [
        "plt.plot(history.history['loss'], label='MAE (training data)')\n",
        "plt.plot(history.history['val_loss'], label='MAE (validation data)')\n",
        "plt.title('MAE')\n",
        "plt.ylabel('MAE value')\n",
        "plt.xlabel('No. epoch')\n",
        "plt.legend(loc=\"upper left\")\n",
        "plt.show()"
      ],
      "execution_count": 30,
      "outputs": [
        {
          "output_type": "display_data",
          "data": {
            "image/png": "[encoded data removed]",
            "text/plain": [
              "<Figure size 432x288 with 1 Axes>"
            ]
          },
          "metadata": {
            "tags": [],
            "needs_background": "light"
          }
        }
      ]
    },
    {
      "cell_type": "code",
      "metadata": {
        "id": "IK5dUTN62lFp",
        "colab": {
          "base_uri": "https://localhost:8080/",
          "height": 350
        },
        "outputId": "db657e3e-16c7-4812-b642-a0aea6c45c4f"
      },
      "source": [
        "import matplotlib.pyplot as plt\n",
        "\n",
        "\n",
        "loss= history.history['loss']\n",
        "val_loss=history.history['val_loss']\n",
        "\n",
        "acc=history.history['accuracy']\n",
        "val_acc = history.history['val_accuracy']\n",
        "\n",
        "epochs = range(1,len(loss)+1)\n",
        "fig, (ax1,ax2) = plt.subplots(1,2,figsize=(15,5))\n",
        "\n",
        "ax1.plot(epochs,loss,label='Training loss')\n",
        "ax1.plot(epochs,val_loss)\n",
        "ax1.set_title('Training and Validation loss')\n",
        "ax1.set_xlabel('Epochs')\n",
        "ax1.set_ylabel('Loss')\n",
        "ax1.legend()\n",
        "\n",
        "\n",
        "ax2.plot(epochs,loss,label='Training Accuracy')\n",
        "ax2.plot(epochs,val_acc,label='Validation Accuracy')\n",
        "ax2.set_title('Training and Validation accuracy')\n",
        "ax2.set_xlabel('Epochs')\n",
        "ax2.set_ylabel('Accuracy')\n",
        "ax2.legend()\n",
        "\n",
        "\n",
        "plt.show()\n"
      ],
      "execution_count": 27,
      "outputs": [
        {
          "output_type": "display_data",
          "data": {
            "image/png": "[encoded data removed]",
            "text/plain": [
              "<Figure size 1080x360 with 2 Axes>"
            ]
          },
          "metadata": {
            "tags": [],
            "needs_background": "light"
          }
        }
      ]
    },
    {
      "cell_type": "code",
      "metadata": {
        "colab": {
          "base_uri": "https://localhost:8080/"
        },
        "id": "s-brmjdSsW07",
        "outputId": "4aea860a-d90b-4ab4-9608-460f8d553ead"
      },
      "source": [
        "x_train = np.reshape(x_train, (x_train.shape[0], 1, x_train.shape[1]))\n",
        "x_test = np.reshape(x_test, (x_test.shape[0], 1, x_test.shape[1]))\n",
        "    \n",
        "\n",
        "lstm_model = get_model2()\n",
        "lstm_model.fit(x_train, y_train, batch_size=100, epochs=20)\n",
        "y_pred = lstm_model.predict(x_test)\n",
        "lstm_model.save('final_lstm2.h5')\n",
        "\n",
        "# Round y_pred to the nearest integer.\n",
        "y_pred = np.around(y_pred)\n",
        "\n",
        "# Evaluate the model on the evaluation metric. \"Quadratic mean averaged Kappa\"\n",
        "result = cohen_kappa_score(y_test,y_pred,weights='quadratic')\n",
        "print(\"Kappa Score: {}\".format(result))\n",
        "\n"
      ],
      "execution_count": null,
      "outputs": [
        {
          "output_type": "stream",
          "text": [
            "Model: \"sequential_1\"\n",
            "_________________________________________________________________\n",
            "Layer (type)                 Output Shape              Param #   \n",
            "=================================================================\n",
            "lstm_2 (LSTM)                (None, 1, 300)            721200    \n",
            "_________________________________________________________________\n",
            "lstm_3 (LSTM)                (None, 64)                93440     \n",
            "_________________________________________________________________\n",
            "dropout_1 (Dropout)          (None, 64)                0         \n",
            "_________________________________________________________________\n",
            "dense_1 (Dense)              (None, 1)                 65        \n",
            "=================================================================\n",
            "Total params: 814,705\n",
            "Trainable params: 814,705\n",
            "Non-trainable params: 0\n",
            "_________________________________________________________________\n",
            "Epoch 1/20\n",
            "104/104 [==============================] - 8s 31ms/step - loss: 6.9695 - mae: 1.8185\n",
            "Epoch 2/20\n",
            "104/104 [==============================] - 3s 30ms/step - loss: 2.2457 - mae: 1.1317\n",
            "Epoch 3/20\n",
            "104/104 [==============================] - 3s 30ms/step - loss: 2.0415 - mae: 1.0507\n",
            "Epoch 4/20\n",
            "104/104 [==============================] - 3s 30ms/step - loss: 1.8351 - mae: 0.9984\n",
            "Epoch 5/20\n",
            "104/104 [==============================] - 3s 30ms/step - loss: 1.6934 - mae: 0.9725\n",
            "Epoch 6/20\n",
            "104/104 [==============================] - 3s 30ms/step - loss: 1.6742 - mae: 0.9556\n",
            "Epoch 7/20\n",
            "104/104 [==============================] - 3s 30ms/step - loss: 1.5857 - mae: 0.9226\n",
            "Epoch 8/20\n",
            "104/104 [==============================] - 3s 30ms/step - loss: 1.4793 - mae: 0.9087\n",
            "Epoch 9/20\n",
            "104/104 [==============================] - 3s 30ms/step - loss: 1.3904 - mae: 0.8824\n",
            "Epoch 10/20\n",
            "104/104 [==============================] - 3s 30ms/step - loss: 1.3739 - mae: 0.8700\n",
            "Epoch 11/20\n",
            "104/104 [==============================] - 3s 30ms/step - loss: 1.3032 - mae: 0.8606\n",
            "Epoch 12/20\n",
            "104/104 [==============================] - 3s 30ms/step - loss: 1.3015 - mae: 0.8589\n",
            "Epoch 13/20\n",
            "104/104 [==============================] - 3s 30ms/step - loss: 1.2486 - mae: 0.8333\n",
            "Epoch 14/20\n",
            "104/104 [==============================] - 3s 30ms/step - loss: 1.2454 - mae: 0.8420\n",
            "Epoch 15/20\n",
            "104/104 [==============================] - 3s 30ms/step - loss: 1.1784 - mae: 0.8183\n",
            "Epoch 16/20\n",
            "104/104 [==============================] - 3s 30ms/step - loss: 1.1857 - mae: 0.8194\n",
            "Epoch 17/20\n",
            "104/104 [==============================] - 3s 29ms/step - loss: 1.1523 - mae: 0.8101\n",
            "Epoch 18/20\n",
            "104/104 [==============================] - 3s 30ms/step - loss: 1.1840 - mae: 0.8131\n",
            "Epoch 19/20\n",
            "104/104 [==============================] - 3s 31ms/step - loss: 1.1208 - mae: 0.7926\n",
            "Epoch 20/20\n",
            "104/104 [==============================] - 3s 30ms/step - loss: 1.1623 - mae: 0.7989\n",
            "Kappa Score: 0.014519219835083863\n"
          ],
          "name": "stdout"
        }
      ]
    },
    {
      "cell_type": "code",
      "metadata": {
        "colab": {
          "base_uri": "https://localhost:8080/"
        },
        "id": "B9i7GUjicHgv",
        "outputId": "8610b74f-2406-45a4-96e2-9f9e96a67680"
      },
      "source": [
        "x_train = np.reshape(x_train, (x_train.shape[0], 1, x_train.shape[1]))\n",
        "x_test = np.reshape(x_test, (x_test.shape[0], 1, x_test.shape[1]))\n",
        "    \n",
        "\n",
        "lstm_model = get_model4()\n",
        "lstm_model.fit(x_train, y_train, batch_size=100, epochs=20)\n",
        "y_pred = lstm_model.predict(x_test)\n",
        "lstm_model.save('final_lstm4.h5')\n",
        "\n",
        "# Round y_pred to the nearest integer.\n",
        "y_pred = np.around(y_pred)\n",
        "\n",
        "# Evaluate the model on the evaluation metric. \"Quadratic mean averaged Kappa\"\n",
        "result = cohen_kappa_score(y_test,y_pred,weights='quadratic')\n",
        "print(\"Kappa Score: {}\".format(result))\n",
        "\n"
      ],
      "execution_count": null,
      "outputs": [
        {
          "output_type": "stream",
          "text": [
            "Model: \"sequential_4\"\n",
            "_________________________________________________________________\n",
            "Layer (type)                 Output Shape              Param #   \n",
            "=================================================================\n",
            "lstm_8 (LSTM)                (None, 1, 300)            721200    \n",
            "_________________________________________________________________\n",
            "lstm_9 (LSTM)                (None, 64)                93440     \n",
            "_________________________________________________________________\n",
            "dropout_4 (Dropout)          (None, 64)                0         \n",
            "_________________________________________________________________\n",
            "dense_4 (Dense)              (None, 1)                 65        \n",
            "=================================================================\n",
            "Total params: 814,705\n",
            "Trainable params: 814,705\n",
            "Non-trainable params: 0\n",
            "_________________________________________________________________\n",
            "Epoch 1/20\n",
            "104/104 [==============================] - 7s 29ms/step - loss: 14.0811 - mae: 2.6886\n",
            "Epoch 2/20\n",
            "104/104 [==============================] - 3s 29ms/step - loss: 12.9203 - mae: 2.5200\n",
            "Epoch 3/20\n",
            "104/104 [==============================] - 3s 29ms/step - loss: 12.7562 - mae: 2.5074\n",
            "Epoch 4/20\n",
            "104/104 [==============================] - 3s 29ms/step - loss: 13.0556 - mae: 2.5309\n",
            "Epoch 5/20\n",
            "104/104 [==============================] - 3s 29ms/step - loss: 12.5212 - mae: 2.4859\n",
            "Epoch 6/20\n",
            "104/104 [==============================] - 3s 30ms/step - loss: 12.6284 - mae: 2.4928\n",
            "Epoch 7/20\n",
            "104/104 [==============================] - 3s 29ms/step - loss: 12.5253 - mae: 2.4738\n",
            "Epoch 8/20\n",
            "104/104 [==============================] - 3s 29ms/step - loss: 12.7611 - mae: 2.4924\n",
            "Epoch 9/20\n",
            "104/104 [==============================] - 3s 29ms/step - loss: 12.4468 - mae: 2.4729\n",
            "Epoch 10/20\n",
            "104/104 [==============================] - 3s 29ms/step - loss: 12.5483 - mae: 2.4883\n",
            "Epoch 11/20\n",
            "104/104 [==============================] - 3s 29ms/step - loss: 13.0675 - mae: 2.5334\n",
            "Epoch 12/20\n",
            "104/104 [==============================] - 3s 29ms/step - loss: 12.8560 - mae: 2.5019\n",
            "Epoch 13/20\n",
            "104/104 [==============================] - 3s 29ms/step - loss: 12.8090 - mae: 2.5061\n",
            "Epoch 14/20\n",
            "104/104 [==============================] - 3s 29ms/step - loss: 12.5188 - mae: 2.4841\n",
            "Epoch 15/20\n",
            "104/104 [==============================] - 3s 30ms/step - loss: 13.0227 - mae: 2.5296\n",
            "Epoch 16/20\n",
            "104/104 [==============================] - 3s 30ms/step - loss: 12.7223 - mae: 2.5038\n",
            "Epoch 17/20\n",
            "104/104 [==============================] - 3s 30ms/step - loss: 12.8763 - mae: 2.5255\n",
            "Epoch 18/20\n",
            "104/104 [==============================] - 3s 30ms/step - loss: 12.7137 - mae: 2.4969\n",
            "Epoch 19/20\n",
            "104/104 [==============================] - 3s 30ms/step - loss: 12.5405 - mae: 2.4759\n",
            "Epoch 20/20\n",
            "104/104 [==============================] - 3s 30ms/step - loss: 12.8727 - mae: 2.5094\n",
            "Kappa Score: 0.0\n"
          ],
          "name": "stdout"
        }
      ]
    },
    {
      "cell_type": "code",
      "metadata": {
        "id": "HDvCVua06m9N"
      },
      "source": [
        ""
      ],
      "execution_count": null,
      "outputs": []
    }
  ]
}